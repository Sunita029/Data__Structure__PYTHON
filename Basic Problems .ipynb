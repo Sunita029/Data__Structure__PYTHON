{
 "cells": [
  {
   "cell_type": "markdown",
   "id": "63e42fe9",
   "metadata": {},
   "source": [
    "## String Question"
   ]
  },
  {
   "cell_type": "code",
   "execution_count": 1,
   "id": "fa3d1425",
   "metadata": {},
   "outputs": [],
   "source": [
    "data = \"\"\" Born\tNishant Khurrana[1] 14 September 1984 (age 38) Chandigarh, India\n",
    "Occupations\t Actorsinger\n",
    "Years active\t2004–present\n",
    "Works\tFull list\n",
    "Spouse\tTahira Kashyap ​(m. 2008)​\n",
    "Children\t2\n",
    "Relatives\tAparshakti Khurana (brother)\"\"\"\n",
    "\n",
    "## THIS IS  a string which need to convert into a dataframe ."
   ]
  },
  {
   "cell_type": "code",
   "execution_count": 2,
   "id": "0608dab9",
   "metadata": {},
   "outputs": [],
   "source": [
    "lines = data.split('\\n')"
   ]
  },
  {
   "cell_type": "code",
   "execution_count": 4,
   "id": "6445be7d",
   "metadata": {},
   "outputs": [],
   "source": [
    "keys = [line.split('\\t')[0] for line in lines]\n",
    "values = [ '\\t'.join( line.split('\\t')[1:] ) for line in lines ]"
   ]
  },
  {
   "cell_type": "code",
   "execution_count": 7,
   "id": "51c82a5e",
   "metadata": {},
   "outputs": [],
   "source": [
    "import pandas as pd\n",
    "df = pd.DataFrame({'key' : keys , 'value' : values} )"
   ]
  },
  {
   "cell_type": "code",
   "execution_count": 8,
   "id": "4923d656",
   "metadata": {},
   "outputs": [
    {
     "data": {
      "text/html": [
       "<div>\n",
       "<style scoped>\n",
       "    .dataframe tbody tr th:only-of-type {\n",
       "        vertical-align: middle;\n",
       "    }\n",
       "\n",
       "    .dataframe tbody tr th {\n",
       "        vertical-align: top;\n",
       "    }\n",
       "\n",
       "    .dataframe thead th {\n",
       "        text-align: right;\n",
       "    }\n",
       "</style>\n",
       "<table border=\"1\" class=\"dataframe\">\n",
       "  <thead>\n",
       "    <tr style=\"text-align: right;\">\n",
       "      <th></th>\n",
       "      <th>key</th>\n",
       "      <th>value</th>\n",
       "    </tr>\n",
       "  </thead>\n",
       "  <tbody>\n",
       "    <tr>\n",
       "      <th>0</th>\n",
       "      <td>Born</td>\n",
       "      <td>Nishant Khurrana[1] 14 September 1984 (age 38)...</td>\n",
       "    </tr>\n",
       "    <tr>\n",
       "      <th>1</th>\n",
       "      <td>Occupations</td>\n",
       "      <td>Actorsinger</td>\n",
       "    </tr>\n",
       "    <tr>\n",
       "      <th>2</th>\n",
       "      <td>Years active</td>\n",
       "      <td>2004–present</td>\n",
       "    </tr>\n",
       "    <tr>\n",
       "      <th>3</th>\n",
       "      <td>Works</td>\n",
       "      <td>Full list</td>\n",
       "    </tr>\n",
       "    <tr>\n",
       "      <th>4</th>\n",
       "      <td>Spouse</td>\n",
       "      <td>Tahira Kashyap ​(m. 2008)​</td>\n",
       "    </tr>\n",
       "    <tr>\n",
       "      <th>5</th>\n",
       "      <td>Children</td>\n",
       "      <td>2</td>\n",
       "    </tr>\n",
       "    <tr>\n",
       "      <th>6</th>\n",
       "      <td>Relatives</td>\n",
       "      <td>Aparshakti Khurana (brother)</td>\n",
       "    </tr>\n",
       "  </tbody>\n",
       "</table>\n",
       "</div>"
      ],
      "text/plain": [
       "            key                                              value\n",
       "0          Born  Nishant Khurrana[1] 14 September 1984 (age 38)...\n",
       "1   Occupations                                        Actorsinger\n",
       "2  Years active                                       2004–present\n",
       "3         Works                                          Full list\n",
       "4        Spouse                         Tahira Kashyap ​(m. 2008)​\n",
       "5      Children                                                  2\n",
       "6     Relatives                       Aparshakti Khurana (brother)"
      ]
     },
     "execution_count": 8,
     "metadata": {},
     "output_type": "execute_result"
    }
   ],
   "source": [
    "df"
   ]
  },
  {
   "cell_type": "code",
   "execution_count": null,
   "id": "f66a4092",
   "metadata": {},
   "outputs": [],
   "source": []
  },
  {
   "cell_type": "code",
   "execution_count": 13,
   "id": "edf381d5",
   "metadata": {},
   "outputs": [
    {
     "name": "stdout",
     "output_type": "stream",
     "text": [
      "[2, 3, 5, 7, 11, 13, 17, 19, 23, 29, 31, 37, 41, 43, 47, 53, 59, 61, 67, 71, 73, 79, 83, 89, 97]\n"
     ]
    }
   ],
   "source": [
    "## Find prime number between 2 and 100\n",
    "\n",
    "prime_numbers = []\n",
    "\n",
    "for num in range(2,101):\n",
    "    is_prime = True\n",
    "    for i in range(2 , int(num ** 0.5) + 1 ):\n",
    "        if num % i == 0:\n",
    "            is_prime = False\n",
    "            break\n",
    "            \n",
    "    if is_prime:\n",
    "        prime_numbers.append(num)\n",
    "        \n",
    "print(prime_numbers)"
   ]
  },
  {
   "cell_type": "code",
   "execution_count": null,
   "id": "70db73f0",
   "metadata": {},
   "outputs": [],
   "source": []
  },
  {
   "cell_type": "code",
   "execution_count": null,
   "id": "76123864",
   "metadata": {},
   "outputs": [],
   "source": []
  }
 ],
 "metadata": {
  "kernelspec": {
   "display_name": "Python 3 (ipykernel)",
   "language": "python",
   "name": "python3"
  },
  "language_info": {
   "codemirror_mode": {
    "name": "ipython",
    "version": 3
   },
   "file_extension": ".py",
   "mimetype": "text/x-python",
   "name": "python",
   "nbconvert_exporter": "python",
   "pygments_lexer": "ipython3",
   "version": "3.10.9"
  }
 },
 "nbformat": 4,
 "nbformat_minor": 5
}
