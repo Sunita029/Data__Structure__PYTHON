{
 "cells": [
  {
   "cell_type": "markdown",
   "id": "350a4371",
   "metadata": {},
   "source": [
    "## Largest element in an array\n"
   ]
  },
  {
   "cell_type": "code",
   "execution_count": 1,
   "id": "f78974df",
   "metadata": {},
   "outputs": [
    {
     "name": "stdout",
     "output_type": "stream",
     "text": [
      "324\n",
      "***************\n",
      "324\n"
     ]
    }
   ],
   "source": [
    "def largest(arr, n):\n",
    "    max = arr[0]\n",
    "    for i in range(1,n):\n",
    "        if arr[i] > max:\n",
    "            max = arr[i]\n",
    "    return max\n",
    "\n",
    "arr = [10, 324, 45, 90, 20]\n",
    "n = len(arr)\n",
    "largest = largest(arr,n)\n",
    "print(largest)\n",
    "\n",
    "### Timecomplexity -- o(n)\n",
    "\n",
    "print(\"***************\")\n",
    "\n",
    "def largest(arr):\n",
    "    return max(arr)\n",
    "\n",
    "arr = [10, 324, 45, 90, 20]\n",
    "n = len(arr)\n",
    "largest = largest(arr)\n",
    "print(largest)\n",
    "\n",
    "### Timecomplexity -- o(nlogn)"
   ]
  },
  {
   "cell_type": "markdown",
   "id": "d4fc8aca",
   "metadata": {},
   "source": [
    "## Python Program to Find Sum of Array\n"
   ]
  },
  {
   "cell_type": "code",
   "execution_count": 2,
   "id": "240e4133",
   "metadata": {},
   "outputs": [
    {
     "name": "stdout",
     "output_type": "stream",
     "text": [
      "44\n",
      "***************\n",
      "Sum of the array is  44\n"
     ]
    }
   ],
   "source": [
    "def sum(arr):\n",
    "    addition = 0\n",
    "    for i in range(0, len(arr)):\n",
    "        #print(arr[i])\n",
    "        addition = addition + arr[i]\n",
    "    return addition\n",
    "\n",
    "arr = [12, 3, 4, 15, 10]\n",
    "\n",
    "print(sum(arr))\n",
    "\n",
    "### Timecomplexity -- o(n)\n",
    "\n",
    "print(\"***************\")\n",
    "\n",
    "\n",
    "\n",
    "arr = [12, 3, 4, 15, 10]\n",
    " \n",
    "ans = sum(arr)\n",
    "print('Sum of the array is ', ans)"
   ]
  },
  {
   "cell_type": "markdown",
   "id": "1809ffdb",
   "metadata": {},
   "source": [
    "## Second Largest Element in an Array without sorting"
   ]
  },
  {
   "cell_type": "code",
   "execution_count": 8,
   "id": "e6c6a0f9",
   "metadata": {},
   "outputs": [
    {
     "name": "stdout",
     "output_type": "stream",
     "text": [
      "34\n",
      "5\n",
      "10\n",
      "***************\n",
      "The Second Largest Element in Vector is:  34\n",
      "The Second Largest Element in Vector is:  5\n",
      "The Second Largest Element in Vector is:  10\n"
     ]
    }
   ],
   "source": [
    "def Secondlargest(arr):\n",
    "    first_largest  = max(arr[0], arr[1])\n",
    "    second_largest = min(arr[0],arr[1])\n",
    "    n = len(arr)\n",
    "    \n",
    "    for i in range(2,n):\n",
    "        if arr[i] > first_largest:\n",
    "            second_largest = first_largest\n",
    "            first_largest = arr[i]\n",
    "        elif arr[i] > second_largest and first_largest != arr[i]:\n",
    "            second_largest = arr[i]\n",
    "        elif first_largest == second_largest  and second_largest != arr[i]:\n",
    "            second_largest = arr[i]\n",
    "    return second_largest\n",
    "                \n",
    "\n",
    "\n",
    "val = Secondlargest([12, 35, 1, 10, 34, 1])\n",
    "print(val)\n",
    "\n",
    "val = Secondlargest([10,5,10])\n",
    "print(val)\n",
    "\n",
    "val = Secondlargest([10,10,10])\n",
    "print(val)\n",
    "\n",
    "\n",
    "### Timecomplexity -- o(n)\n",
    "\n",
    "print(\"***************\")\n",
    "\n",
    "\n",
    "def SecondLargestElement(arr):\n",
    "    s = set(arr)\n",
    "    s = sorted(s)\n",
    "    if len(s) > 1:\n",
    "        print(\"The Second Largest Element in Vector is: \",s[-2])\n",
    "    else:\n",
    "        print(\"The Second Largest Element in Vector is: \",s[-1])\n",
    "    \n",
    "val = SecondLargestElement([12, 35, 1, 10, 34, 1])\n",
    "\n",
    "\n",
    "val = SecondLargestElement([10,5,10])\n",
    "\n",
    "\n",
    "val = SecondLargestElement([10,10,10])\n",
    "\n",
    "\n",
    "\n",
    "###  O(N log N)"
   ]
  },
  {
   "cell_type": "markdown",
   "id": "f162f0e0",
   "metadata": {},
   "source": [
    "## Program for array left rotation by d positions"
   ]
  },
  {
   "cell_type": "code",
   "execution_count": 9,
   "id": "d2f7b949",
   "metadata": {},
   "outputs": [
    {
     "name": "stdout",
     "output_type": "stream",
     "text": [
      "[3, 4, 5, 6, 7, 1, 2]\n",
      "***************\n",
      "[3, 4, 5, 6, 7, 1, 2]\n"
     ]
    }
   ],
   "source": [
    "# Suppose the give array is arr[] = [1, 2, 3, 4, 5, 6, 7], d = 2.\n",
    "\n",
    "# First Step:\n",
    "#     => Store the elements from 2nd index to the last.\n",
    "#     => temp[] = [3, 4, 5, 6, 7]\n",
    "\n",
    "# Second Step: \n",
    "#     => Now store the first 2 elements into the temp[] array.\n",
    "#     => temp[] = [3, 4, 5, 6, 7, 1, 2]\n",
    "\n",
    "# Third Steps:\n",
    "#     => Copy the elements of the temp[] array into the original array.\n",
    "#     => arr[] = temp[] So arr[] = [3, 4, 5, 6, 7, 1, 2]\n",
    "\n",
    "def rotate(arr,d, n):\n",
    "    k = arr.index(d)\n",
    "    new_list = []\n",
    "    new_list = arr[k+1:] + arr[0: k+1]\n",
    "    return new_list\n",
    "\n",
    "if __name__ == '__main__':\n",
    "    arr = [1, 2, 3, 4, 5, 6, 7]\n",
    "    d = 2\n",
    "    N = len(arr)\n",
    "    \n",
    "    list1 = rotate(arr,d,N)\n",
    "    print(list1)\n",
    "    \n",
    "\n",
    "### Timecomplexity -- o(n)\n",
    "\n",
    "print(\"***************\")\n",
    "\n",
    "# Let us take arr[] = [1, 2, 3, 4, 5, 6, 7], d = 2.\n",
    "\n",
    "# First Step:\n",
    "#         => Rotate to left by one position.\n",
    "#         => arr[] = {2, 3, 4, 5, 6, 7, 1}\n",
    "\n",
    "# Second Step:\n",
    "#         => Rotate again to left by one position\n",
    "#         => arr[] = {3, 4, 5, 6, 7, 1, 2}\n",
    "\n",
    "# Rotation is done by 2 times.\n",
    "# So the array becomes arr[] = {3, 4, 5, 6, 7, 1, 2}\n",
    "\n",
    "\n",
    "def Rotate(arr,d,n):\n",
    "    p = 1\n",
    "    while(p<=d):\n",
    "        last = arr[0]\n",
    "        for i in range(n-1):\n",
    "            arr[i] = arr[i+1]\n",
    "        arr[n-1] = last\n",
    "        p = p+1\n",
    "\n",
    "\n",
    "if __name__ == '__main__':\n",
    "    arr = [1, 2, 3, 4, 5, 6, 7]\n",
    "    d = 2\n",
    "    N = len(arr)\n",
    "    \n",
    "    a = rotate(arr,d,N)\n",
    "    print(a)\n",
    "    \n",
    "\n",
    "## time complexity = o(d*n)"
   ]
  },
  {
   "cell_type": "markdown",
   "id": "862ad261",
   "metadata": {},
   "source": [
    "## Program for array right rotation by d positions"
   ]
  },
  {
   "cell_type": "code",
   "execution_count": 26,
   "id": "a5fb5934",
   "metadata": {},
   "outputs": [
    {
     "name": "stdout",
     "output_type": "stream",
     "text": [
      "[5, 6, 1, 2, 3, 4]\n",
      "****************************************\n",
      "[5, 6, 1, 2, 3, 4]\n"
     ]
    }
   ],
   "source": [
    "# Input : n = 2, List_1 = [1, 2, 3, 4, 5, 6]\n",
    "# Output : List_1 = [5, 6, 1, 2, 3, 4]\n",
    "# Explanation: We get output list after right rotating (clockwise) given list by 2.\n",
    "\n",
    "def rotate(arr,d, n):\n",
    "    k = arr.index(d)\n",
    "    new_list = []\n",
    "    new_list = arr[-2:] + arr[0: -2]\n",
    "    return new_list\n",
    "\n",
    "if __name__ == '__main__':\n",
    "    arr = [1, 2, 3, 4, 5, 6]\n",
    "    d = 2\n",
    "    N = len(arr)\n",
    "    \n",
    "    list1 = rotate(arr,d,N)\n",
    "    print(list1)\n",
    "    \n",
    "## time complexity - o(n)\n",
    "\n",
    "print(\"**\"*20)\n",
    "  \n",
    "    \n",
    "def Rotate(arr, d, n):\n",
    "    p = 1\n",
    "    while p <= d:\n",
    "        last = arr[n - 1]\n",
    "        for i in range(n - 1, 0, -1):\n",
    "            arr[i] = arr[i - 1]\n",
    "        arr[0] = last\n",
    "        p += 1\n",
    "\n",
    "if __name__ == '__main__':\n",
    "    arr = [1, 2, 3, 4, 5, 6]\n",
    "    d = 2\n",
    "    N = len(arr)\n",
    "\n",
    "    Rotate(arr, d, N)\n",
    "    print(arr)\n",
    "    \n",
    "## time complexity - o(n*d)"
   ]
  },
  {
   "cell_type": "markdown",
   "id": "fda05df8",
   "metadata": {},
   "source": [
    "## Move all zeroes to end of array"
   ]
  },
  {
   "cell_type": "code",
   "execution_count": 31,
   "id": "efd46dd8",
   "metadata": {},
   "outputs": [
    {
     "name": "stdout",
     "output_type": "stream",
     "text": [
      "Array after pushing all zeros to end of array:\n",
      "[1, 9, 8, 4, 2, 7, 6, 9, 0, 0, 0, 0]\n",
      "****************************************\n",
      "[5, 6, 4, 6, 9, 8]\n",
      "[0, 0, 0]\n",
      "[5, 6, 4, 6, 9, 8, 0, 0, 0]\n"
     ]
    }
   ],
   "source": [
    "\n",
    "# Input :  arr[] = {1, 2, 0, 4, 3, 0, 5, 0};\n",
    "# Output : arr[] = {1, 2, 4, 3, 5, 0, 0, 0};\n",
    "\n",
    "\n",
    "def PushZeroToEnd(arr, n):\n",
    "    count = 0\n",
    "    \n",
    "    for i in range(n):\n",
    "        if arr[i] != 0:\n",
    "            arr[count] = arr[i]\n",
    "            count += 1\n",
    "            \n",
    "    while count < n:\n",
    "        arr[count] = 0\n",
    "        count +=1\n",
    "        \n",
    "    return arr\n",
    "        \n",
    "        \n",
    "arr = [1, 9, 8, 4, 0, 0, 2, 7, 0, 6, 0, 9]\n",
    "n = len(arr)\n",
    "ls =  PushZeroToEnd(arr, n)\n",
    "print(\"Array after pushing all zeros to end of array:\")\n",
    "print(ls)\n",
    "\n",
    "## time complexity - o(n)\n",
    "\n",
    "print(\"**\"*20)\n",
    "\n",
    "\n",
    "arr = [5, 6, 0, 4, 6, 0, 9, 0, 8]\n",
    "nonZeroValues = [x for x in arr if x != 0]\n",
    "print(nonZeroValues)\n",
    "zeroes = [j for j in arr if j == 0]\n",
    "print(zeroes)\n",
    "arr = nonZeroValues +zeroes\n",
    "print(arr)"
   ]
  },
  {
   "cell_type": "markdown",
   "id": "8c500bbc",
   "metadata": {},
   "source": [
    "## Two Sum"
   ]
  },
  {
   "cell_type": "code",
   "execution_count": 34,
   "id": "fb9e6b34",
   "metadata": {},
   "outputs": [
    {
     "name": "stdout",
     "output_type": "stream",
     "text": [
      "yes\n",
      "****************************************\n"
     ]
    }
   ],
   "source": [
    "def TwoSum(A, size , target):\n",
    "    for i in range(0,size-1):\n",
    "        for j in range(i+1,size):\n",
    "            if A[i] + A[j] == x :\n",
    "                return 1\n",
    "    return 0\n",
    "\n",
    "if __name__ == \"__main__\":\n",
    "    A = [2,6,5,8,11]\n",
    "    x = 11\n",
    "    size = len(A)\n",
    "    \n",
    "    if (TwoSum(A,size,x)):\n",
    "        print('yes')\n",
    "    else:\n",
    "        print('no')\n",
    "\n",
    "## time complexity - o(n*n)\n",
    "\n",
    "print(\"**\"*20)\n"
   ]
  },
  {
   "cell_type": "code",
   "execution_count": null,
   "id": "75174d1e",
   "metadata": {},
   "outputs": [],
   "source": []
  }
 ],
 "metadata": {
  "kernelspec": {
   "display_name": "Python 3 (ipykernel)",
   "language": "python",
   "name": "python3"
  },
  "language_info": {
   "codemirror_mode": {
    "name": "ipython",
    "version": 3
   },
   "file_extension": ".py",
   "mimetype": "text/x-python",
   "name": "python",
   "nbconvert_exporter": "python",
   "pygments_lexer": "ipython3",
   "version": "3.10.9"
  }
 },
 "nbformat": 4,
 "nbformat_minor": 5
}
