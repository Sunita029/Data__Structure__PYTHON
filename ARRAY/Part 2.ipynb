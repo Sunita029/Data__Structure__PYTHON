{
 "cells": [
  {
   "cell_type": "markdown",
   "id": "ab457599",
   "metadata": {},
   "source": [
    "##  Reverse an array "
   ]
  },
  {
   "cell_type": "code",
   "execution_count": 4,
   "id": "648f8c63",
   "metadata": {},
   "outputs": [
    {
     "name": "stdout",
     "output_type": "stream",
     "text": [
      "[7, 6, 5, 4, 3, 2, 1]\n",
      "****************************************************************************************************\n",
      "i is :  0\n",
      "i is :  2\n",
      "[7, 6, 5, 4, 3, 2, 1]\n"
     ]
    }
   ],
   "source": [
    "def reverseArray(a):\n",
    "    # Write your code here\n",
    "    new_list = a[::-1]\n",
    "    return new_list\n",
    "\n",
    "if __name__ == \"__main__\":\n",
    "    arr = [1, 2, 3, 4, 5, 6, 7]\n",
    "    li = reverseArray(arr)\n",
    "    print(li)\n",
    "    \n",
    "## Time complexity - 0(n)\n",
    "\n",
    "print(\"**\"*50)\n",
    "\n",
    "\n",
    "def reverseArray(arr,size):\n",
    "    \n",
    "    if size == 1:\n",
    "        return arr\n",
    "    \n",
    "    elif size == 2:\n",
    "        arr[0], arr[1] = arr[1] , arr[0]\n",
    "        return arr\n",
    "    \n",
    "    #if more than two elements presents, then swap first and last numbers.\n",
    "    else:\n",
    "        i = 0\n",
    "        while (i < size //2):\n",
    "            print(\"i is : \", i)\n",
    "            arr[i], arr[size-i-1] = arr[size-i-1], arr[i]\n",
    "            #swap present and preceding numbers at time and jump to second element after swap\n",
    "            \n",
    "            if ( (i!=i+1 and size-i-1 != size-i-2) and ( i!=size-i-2 and size-i-1!= i+1 )  ):\n",
    "                arr[i+1],arr[size-i-2] = arr[size-i-2], arr[i+1]\n",
    "            \n",
    "            i += 2\n",
    "        return arr\n",
    "        \n",
    "if __name__ == \"__main__\":\n",
    "    arr = [1, 2, 3, 4, 5, 6, 7]\n",
    "    li = reverseArray(arr,len(arr))\n",
    "    print(li)\n",
    "    \n",
    "    \n",
    "## Time complexity - O(log2(n))\n"
   ]
  },
  {
   "cell_type": "markdown",
   "id": "e73424f8",
   "metadata": {},
   "source": [
    "##  Maximum sum of hour glass in matrix"
   ]
  },
  {
   "cell_type": "code",
   "execution_count": 14,
   "id": "3a0636ed",
   "metadata": {},
   "outputs": [
    {
     "name": "stdout",
     "output_type": "stream",
     "text": [
      "Maximum sum of hour glass = 13\n"
     ]
    }
   ],
   "source": [
    "# Input : 1 1 1 0 0 \n",
    "#         0 1 0 0 0 \n",
    "#         1 1 1 0 0 \n",
    "#         0 0 0 0 0 \n",
    "#         0 0 0 0 0 \n",
    "# Output : 7\n",
    "# Below is the hour glass with\n",
    "# maximum sum:\n",
    "# 1 1 1 \n",
    "#   1\n",
    "# 1 1 1\n",
    "                                                      \n",
    "# Input : 0 3 0 0 0\n",
    "#         0 1 0 0 0\n",
    "#         1 1 1 0 0\n",
    "#         0 0 2 4 4\n",
    "#         0 0 0 2 4\n",
    "# Output : 11\n",
    "# Below is the hour glass with\n",
    "# maximum sum\n",
    "# 1 0 0\n",
    "#   4\n",
    "# 0 2 4\n",
    "\n",
    "def hourglassSum(arr):\n",
    "    # Write your code here\n",
    "    sums = []\n",
    "    subarray_size = 3\n",
    "    for i in range(len(arr) - subarray_size + 1):\n",
    "        for j in range(len(arr[i]) - subarray_size + 1):\n",
    "            top = arr[i][j] + arr[i][j+1] + arr[i][j+2]\n",
    "            mid = arr[i+1][j+1]\n",
    "            bot = arr[i+2][j] + arr[i+2][j+1] + arr[i+2][j+2]\n",
    "            sums.append(sum([top, mid, bot]))\n",
    "    return max(sums)\n",
    "\n",
    "arr = [[1, 2, 3, 0, 0],\n",
    "       [0, 0, 0, 0, 0],\n",
    "       [2, 1, 4, 0, 0],\n",
    "       [0, 0, 0, 0, 0],\n",
    "       [1, 1, 0, 1, 0]]\n",
    "\n",
    "res = hourglassSum(arr)\n",
    " \n",
    "print(f\"Maximum sum of hour glass = {res}\")\n",
    "\n",
    "\n",
    "## Time complexity: O(R x C)"
   ]
  },
  {
   "cell_type": "code",
   "execution_count": null,
   "id": "e23ef0af",
   "metadata": {},
   "outputs": [],
   "source": []
  },
  {
   "cell_type": "code",
   "execution_count": null,
   "id": "4c9c2866",
   "metadata": {},
   "outputs": [],
   "source": []
  }
 ],
 "metadata": {
  "kernelspec": {
   "display_name": "Python 3 (ipykernel)",
   "language": "python",
   "name": "python3"
  },
  "language_info": {
   "codemirror_mode": {
    "name": "ipython",
    "version": 3
   },
   "file_extension": ".py",
   "mimetype": "text/x-python",
   "name": "python",
   "nbconvert_exporter": "python",
   "pygments_lexer": "ipython3",
   "version": "3.10.9"
  }
 },
 "nbformat": 4,
 "nbformat_minor": 5
}
