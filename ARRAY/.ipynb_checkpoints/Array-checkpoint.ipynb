{
 "cells": [
  {
   "cell_type": "code",
   "execution_count": 3,
   "id": "6a996cca",
   "metadata": {},
   "outputs": [
    {
     "name": "stdout",
     "output_type": "stream",
     "text": [
      "324\n"
     ]
    }
   ],
   "source": [
    "## Largest element in an array\n",
    "\n",
    "\n",
    "\n",
    "def largest(arr, n):\n",
    "    max = arr[0]\n",
    "    for i in range(1,n):\n",
    "        if arr[i] > max:\n",
    "            max = arr[i]\n",
    "    return max\n",
    "\n",
    "arr = [10, 324, 45, 90, 20]\n",
    "n = len(arr)\n",
    "largest = largest(arr,n)\n",
    "print(largest)\n",
    "\n",
    "### Timecomplexity -- o(n)\n",
    "\n",
    "\n",
    "def largest(arr)"
   ]
  },
  {
   "cell_type": "code",
   "execution_count": 8,
   "id": "1b91c757",
   "metadata": {},
   "outputs": [
    {
     "name": "stdout",
     "output_type": "stream",
     "text": [
      "44\n"
     ]
    }
   ],
   "source": [
    "## Python Program to Find Sum of Array\n",
    "\n",
    "def sum(arr):\n",
    "    addition = 0\n",
    "    for i in range(0, len(arr)):\n",
    "        #print(arr[i])\n",
    "        addition = addition + arr[i]\n",
    "    return addition\n",
    "\n",
    "arr = [12, 3, 4, 15, 10]\n",
    "\n",
    "print(sum(arr))"
   ]
  },
  {
   "cell_type": "code",
   "execution_count": 13,
   "id": "f28e9ae2",
   "metadata": {},
   "outputs": [
    {
     "name": "stdout",
     "output_type": "stream",
     "text": [
      "no\n"
     ]
    }
   ],
   "source": [
    "## Python Program for Array Rotation\n",
    "\n",
    "# Input : 20 20 45 89 89 90\n",
    "# Output : Yes\n",
    "\n",
    "# Input : 20 20 78 98 99 97\n",
    "# Output : No\n",
    "\n",
    "list1 = [ 20, 20 ,45, 89, 89 ,90]\n",
    "list2 = [20 ,20, 78, 98, 99, 97]\n",
    "\n",
    "\n",
    "# 1: If size of array is zero or one, return true.\n",
    "# 2: Check last two elements of array, if they are\n",
    "#    sorted, perform a recursive call with n-1\n",
    "#    else, return false.\n",
    "# If all the elements will be found sorted, n will\n",
    "# eventually fall to one, satisfying Step 1.\n",
    "\n",
    "\n",
    "def ArraySortedOrNot(arr):\n",
    "    \n",
    "    n = len(arr)\n",
    "    \n",
    "    if n == 0 or n == 1:\n",
    "        return True\n",
    "    \n",
    "    return arr[0] <= arr[1] and ArraySortedOrNot(arr[1:])\n",
    "\n",
    "\n",
    "if ArraySortedOrNot(list2):\n",
    "    print('yes')\n",
    "else:\n",
    "    print('no')"
   ]
  },
  {
   "cell_type": "code",
   "execution_count": 15,
   "id": "b1ec3ef6",
   "metadata": {},
   "outputs": [
    {
     "name": "stdout",
     "output_type": "stream",
     "text": [
      "34\n",
      "5\n",
      "10\n"
     ]
    }
   ],
   "source": [
    "## Second Largest Element in an Array without sorting\n",
    "\n",
    "# Input: arr[] = {12, 35, 1, 10, 34, 1}\n",
    "# Output: The second largest element is 34.\n",
    "# Explanation: The largest element of the \n",
    "# array is 35 and the second \n",
    "# largest element is 34\n",
    "\n",
    "# Input: arr[] = {10, 5, 10}\n",
    "# Output: The second largest element is 5.\n",
    "# Explanation: The largest element of \n",
    "# the array is 10 and the second \n",
    "# largest element is 5\n",
    "\n",
    "# Input: arr[] = {10, 10, 10}\n",
    "# Output: The second largest does not exist.\n",
    "# Explanation: Largest element of the array \n",
    "# is 10 there is no second largest element\n",
    "\n",
    "\n",
    "\n",
    "def Secondlargest(arr):\n",
    "    first_largest  = max(arr[0], arr[1])\n",
    "    second_largest = min(arr[0],arr[1])\n",
    "    n = len(arr)\n",
    "    \n",
    "    for i in range(2,n):\n",
    "        if arr[i] > first_largest:\n",
    "            second_largest = first_largest\n",
    "            first_largest = arr[i]\n",
    "        elif arr[i] > second_largest and first_largest != arr[i]:\n",
    "            second_largest = arr[i]\n",
    "        elif first_largest == second_largest  and second_largest != arr[i]:\n",
    "            second_largest = arr[i]\n",
    "    return second_largest\n",
    "                \n",
    "\n",
    "\n",
    "val = Secondlargest([12, 35, 1, 10, 34, 1])\n",
    "print(val)\n",
    "\n",
    "val = Secondlargest([10,5,10])\n",
    "print(val)\n",
    "\n",
    "val = Secondlargest([10,10,10])\n",
    "print(val)"
   ]
  },
  {
   "cell_type": "code",
   "execution_count": 18,
   "id": "1eb600b5",
   "metadata": {},
   "outputs": [
    {
     "name": "stdout",
     "output_type": "stream",
     "text": [
      "[3, 4, 5, 6, 7, 1, 2]\n"
     ]
    }
   ],
   "source": [
    "## Program for array left rotation by d positions\n",
    "\n",
    "# Suppose the give array is arr[] = [1, 2, 3, 4, 5, 6, 7], d = 2.\n",
    "\n",
    "# First Step:\n",
    "#     => Store the elements from 2nd index to the last.\n",
    "#     => temp[] = [3, 4, 5, 6, 7]\n",
    "\n",
    "# Second Step: \n",
    "#     => Now store the first 2 elements into the temp[] array.\n",
    "#     => temp[] = [3, 4, 5, 6, 7, 1, 2]\n",
    "\n",
    "# Third Steps:\n",
    "#     => Copy the elements of the temp[] array into the original array.\n",
    "#     => arr[] = temp[] So arr[] = [3, 4, 5, 6, 7, 1, 2]\n",
    "\n",
    "def rotate(arr,d, n):\n",
    "    k = arr.index(d)\n",
    "    new_list = []\n",
    "    new_list = arr[k+1:] + arr[0: k+1]\n",
    "    return new_list\n",
    "\n",
    "if __name__ == '__main__':\n",
    "    arr = [1, 2, 3, 4, 5, 6, 7]\n",
    "    d = 2\n",
    "    N = len(arr)\n",
    "    \n",
    "    list1 = rotate(arr,d,N)\n",
    "    print(list1)"
   ]
  },
  {
   "cell_type": "code",
   "execution_count": 21,
   "id": "c2746a90",
   "metadata": {},
   "outputs": [
    {
     "name": "stdout",
     "output_type": "stream",
     "text": [
      "[5, 6, 1, 2, 3, 4]\n"
     ]
    }
   ],
   "source": [
    "## Program for array right rotation by d positions\n",
    "\n",
    "\n",
    "# Input : n = 2, List_1 = [1, 2, 3, 4, 5, 6]\n",
    "# Output : List_1 = [5, 6, 1, 2, 3, 4]\n",
    "# Explanation: We get output list after right rotating (clockwise) given list by 2.\n",
    "\n",
    "def rotate(arr,d, n):\n",
    "    k = arr.index(d)\n",
    "    new_list = []\n",
    "    new_list = arr[-2:] + arr[0: -2]\n",
    "    return new_list\n",
    "\n",
    "if __name__ == '__main__':\n",
    "    arr = [1, 2, 3, 4, 5, 6]\n",
    "    d = 2\n",
    "    N = len(arr)\n",
    "    \n",
    "    list1 = rotate(arr,d,N)\n",
    "    print(list1)"
   ]
  },
  {
   "cell_type": "code",
   "execution_count": null,
   "id": "bd12b4fa",
   "metadata": {},
   "outputs": [],
   "source": []
  },
  {
   "cell_type": "code",
   "execution_count": null,
   "id": "ddd086bc",
   "metadata": {},
   "outputs": [],
   "source": []
  },
  {
   "cell_type": "code",
   "execution_count": null,
   "id": "548b277b",
   "metadata": {},
   "outputs": [],
   "source": []
  },
  {
   "cell_type": "code",
   "execution_count": 28,
   "id": "7805918a",
   "metadata": {},
   "outputs": [
    {
     "name": "stdout",
     "output_type": "stream",
     "text": [
      "1\n",
      "--  1\n",
      "**  1\n",
      "1\n",
      "--  2\n",
      "**  2\n",
      "0\n",
      "0\n",
      "1\n",
      "--  2\n",
      "**  1\n",
      "0\n",
      "1\n",
      "--  2\n",
      "**  1\n",
      "0\n",
      "1\n",
      "--  2\n",
      "**  1\n",
      "1\n",
      "--  2\n",
      "**  2\n",
      "1\n",
      "--  3\n",
      "**  3\n",
      "1\n",
      "--  4\n",
      "**  4\n",
      "4\n"
     ]
    }
   ],
   "source": [
    "## Maximum consecutive one’s (or zeros) in a binary array\n",
    "\n",
    "# Input  : arr[] = {1, 1, 0, 0, 1, 0, 1, 0, 1, 1, 1, 1}\n",
    "# Output : 4\n",
    "\n",
    "# Input  : arr[] = {0, 0, 1, 0, 1, 0, 1, 0, 1, 0, 1}\n",
    "# Output : 1\n",
    "\n",
    "\n",
    "def getMaxLength(arr , n):\n",
    "    count = 0\n",
    "    result = 0\n",
    "    \n",
    "    for i in range(0,n):\n",
    "        print(arr[i])\n",
    "        if(arr[i] == 0):\n",
    "            count = 0\n",
    "            \n",
    "        else:\n",
    "            count += 1\n",
    "            result = max(result, count)\n",
    "            print('-- ', result)\n",
    "            print('** ', count)\n",
    "    return result\n",
    "\n",
    "\n",
    "\n",
    "if __name__ == '__main__':\n",
    "    arr = [1, 1, 0, 0, 1, 0, 1, 0, 1, 1, 1, 1]\n",
    "    N = len(arr)\n",
    "    \n",
    "    list1 = getMaxLength(arr,N)\n",
    "    print(list1)"
   ]
  },
  {
   "cell_type": "code",
   "execution_count": 32,
   "id": "67ef72ff",
   "metadata": {},
   "outputs": [
    {
     "name": "stdout",
     "output_type": "stream",
     "text": [
      "12\n",
      "Array after pushing all zeros to end of array:\n",
      "[1, 9, 8, 4, 2, 7, 6, 9, 0, 0, 0, 0]\n"
     ]
    }
   ],
   "source": [
    "## Move all zeroes to end of array\n",
    "\n",
    "\n",
    "# Input :  arr[] = {1, 2, 0, 4, 3, 0, 5, 0};\n",
    "# Output : arr[] = {1, 2, 4, 3, 5, 0, 0, 0};\n",
    "\n",
    "\n",
    "def PushZeroToEnd(arr, n):\n",
    "    count = 0\n",
    "    \n",
    "    for i in range(n):\n",
    "        if arr[i] != 0:\n",
    "            arr[count] = arr[i]\n",
    "            count += 1\n",
    "            \n",
    "    while count < n:\n",
    "        arr[count] = 0\n",
    "        count +=1\n",
    "        \n",
    "    return arr\n",
    "        \n",
    "        \n",
    "arr = [1, 9, 8, 4, 0, 0, 2, 7, 0, 6, 0, 9]\n",
    "n = len(arr)\n",
    "ls =  PushZeroToEnd(arr, n)\n",
    "print(\"Array after pushing all zeros to end of array:\")\n",
    "print(ls)"
   ]
  },
  {
   "cell_type": "code",
   "execution_count": 33,
   "id": "4f7611e3",
   "metadata": {},
   "outputs": [
    {
     "name": "stdout",
     "output_type": "stream",
     "text": [
      "[5, 6, 4, 6, 9, 8, 0, 0, 0]\n"
     ]
    }
   ],
   "source": [
    "A = [5, 6, 0, 4, 6, 0, 9, 0, 8]\n",
    "n = len(A)\n",
    "j = 0\n",
    "for i in range(n):\n",
    "    if A[i] != 0:\n",
    "        A[j], A[i] = A[i], A[j]  # Partitioning the array\n",
    "        j += 1\n",
    "print(A)"
   ]
  },
  {
   "cell_type": "code",
   "execution_count": 34,
   "id": "d8cc0c13",
   "metadata": {},
   "outputs": [
    {
     "name": "stdout",
     "output_type": "stream",
     "text": [
      "array after shifting zeros to right side:  [5, 6, 4, 6, 9, 8, 0, 0, 0]\n"
     ]
    }
   ],
   "source": [
    "arr = [5, 6, 0, 4, 6, 0, 9, 0, 8]\n",
    " \n",
    "# Storing all non zero values\n",
    "nonZeroValues = [x for x in arr if x != 0]\n",
    " \n",
    "# Storing all zeroes\n",
    "zeroes = [j for j in arr if j == 0]\n",
    " \n",
    "# Updating the answer\n",
    "arr = nonZeroValues + zeroes\n",
    " \n",
    "# Printing the answer\n",
    "print( \"array after shifting zeros to right side: \", arr)\n"
   ]
  },
  {
   "cell_type": "code",
   "execution_count": null,
   "id": "19308cb3",
   "metadata": {},
   "outputs": [],
   "source": []
  },
  {
   "cell_type": "code",
   "execution_count": null,
   "id": "1b61cb74",
   "metadata": {},
   "outputs": [],
   "source": []
  },
  {
   "cell_type": "code",
   "execution_count": 37,
   "id": "425f2d56",
   "metadata": {},
   "outputs": [
    {
     "name": "stdout",
     "output_type": "stream",
     "text": [
      "[2]\n",
      "[1, 2, 3, 4, 5]\n"
     ]
    }
   ],
   "source": [
    "## Remove duplicates from Sorted array\n",
    "\n",
    "# Input: arr[] = {2, 2, 2, 2, 2}\n",
    "# Output: arr[] = {2}\n",
    "# Explanation: All the elements are 2, So only keep one instance of 2.\n",
    "\n",
    "# Input: arr[] = {1, 2, 2, 3, 4, 4, 4, 5, 5}\n",
    "# Output: arr[] = {1, 2, 3, 4, 5}\n",
    "\n",
    "\n",
    "def RemoveDuplicates(arr):\n",
    "    withoutdup = []\n",
    "    if n == 0 or n== 1:\n",
    "        return n\n",
    "    for num in arr:\n",
    "        if num not in withoutdup:\n",
    "            withoutdup.append(num)\n",
    "\n",
    "    return withoutdup\n",
    "\n",
    "\n",
    "    \n",
    "arr1 = [2, 2, 2, 2, 2]\n",
    "arr2 = [1, 2, 2, 3, 4, 4, 4, 5, 5]\n",
    "\n",
    "print(RemoveDuplicates(arr1))  \n",
    "print(RemoveDuplicates(arr2))"
   ]
  },
  {
   "cell_type": "code",
   "execution_count": null,
   "id": "8fef3760",
   "metadata": {},
   "outputs": [],
   "source": []
  },
  {
   "cell_type": "code",
   "execution_count": null,
   "id": "9bd941ce",
   "metadata": {},
   "outputs": [],
   "source": []
  },
  {
   "cell_type": "code",
   "execution_count": 39,
   "id": "c972382e",
   "metadata": {},
   "outputs": [
    {
     "name": "stdout",
     "output_type": "stream",
     "text": [
      "5\n",
      "4\n"
     ]
    }
   ],
   "source": [
    "## Find the Missing Number\n",
    "# Input: arr[] = {1, 2, 4, 6, 3, 7, 8}, N = 8\n",
    "# Output: 5\n",
    "# Explanation: The missing number between 1 to 8 is 5\n",
    "\n",
    "\n",
    "def MissingNumber(arr,n):\n",
    "    sortedarr = sorted(arr)\n",
    "    \n",
    "    for i in range(n - 1):\n",
    "        if sortedarr[i+1] - sortedarr[i] != 1:\n",
    "            return sortedarr[i] + 1\n",
    "        \n",
    "    \n",
    "arr1 = [1, 2, 4, 6, 3, 7, 8]\n",
    "arr2 = [1, 2, 3, 5]\n",
    "\n",
    "print(MissingNumber(arr1,8))  \n",
    "print(MissingNumber(arr2,5))    "
   ]
  },
  {
   "cell_type": "code",
   "execution_count": 56,
   "id": "5711f87f",
   "metadata": {},
   "outputs": [
    {
     "name": "stdout",
     "output_type": "stream",
     "text": [
      "3\n",
      "**|\n",
      "3\n",
      "--\n",
      "1\n",
      "-*-\n",
      "2\n",
      "--\n",
      "1\n",
      "-*-\n",
      "5\n",
      "--\n",
      "1\n",
      "-*-\n",
      "4\n",
      "--\n",
      "1\n",
      "-*-\n",
      "5\n",
      "--\n",
      "1\n",
      "-*-\n",
      "3\n",
      "--\n",
      "2\n",
      "-*-\n",
      "4\n",
      "--\n",
      "2\n",
      "-*-\n",
      "2\n",
      "**|\n",
      "3\n",
      "--\n",
      "0\n",
      "-*-\n",
      "2\n",
      "--\n",
      "1\n",
      "-*-\n",
      "5\n",
      "--\n",
      "1\n",
      "-*-\n",
      "4\n",
      "--\n",
      "1\n",
      "-*-\n",
      "5\n",
      "--\n",
      "1\n",
      "-*-\n",
      "3\n",
      "--\n",
      "1\n",
      "-*-\n",
      "4\n",
      "--\n",
      "1\n",
      "-*-\n",
      "2\n"
     ]
    }
   ],
   "source": [
    "## STILL IN DOUBT\n",
    "\n",
    "### Find the element that appears once in an array where every other element appears twice\n",
    "\n",
    "# Input:  arr[] = {2, 3, 5, 4, 5, 3, 4}\n",
    "# Output: 2 \n",
    "\n",
    "def FindSingleNumber(arr,n):\n",
    "    \n",
    "    for i in range(n):\n",
    "        print(arr[i])\n",
    "        count = 0\n",
    "        print('**|')\n",
    "        for j in range(n):\n",
    "            print(arr[j])\n",
    "            if(arr[i] == arr[j]):\n",
    "                count +=1 \n",
    "            print('--')\n",
    "            print(count)\n",
    "            print('-*-')\n",
    "        if count == 1:\n",
    "            return arr[i]\n",
    "    return -1\n",
    "\n",
    "\n",
    "arr1 = [ 3, 2, 5, 4, 5, 3, 4]\n",
    "print(FindSingleNumber(arr1,len(arr1)))"
   ]
  },
  {
   "cell_type": "code",
   "execution_count": null,
   "id": "e29ca7cb",
   "metadata": {},
   "outputs": [],
   "source": []
  },
  {
   "cell_type": "code",
   "execution_count": 57,
   "id": "d30c80db",
   "metadata": {},
   "outputs": [],
   "source": [
    "## Union and Intersection of two sorted arrays\n",
    "\n",
    "# Input: arr1[] = {1, 3, 4, 5, 7}\n",
    "#         arr2[] = {2, 3, 5, 6} \n",
    "# Output: Union : {1, 2, 3, 4, 5, 6, 7} \n",
    "#          Intersection : {3, 5}\n",
    "\n",
    "# Input: arr1[] = {2, 5, 6}\n",
    "#         arr2[] = {4, 6, 8, 10} \n",
    "# Output: Union : {2, 4, 5, 6, 8, 10} \n",
    "#          Intersection : {6}\n",
    "\n",
    "\n",
    "# To find union of two sorted arrays, follow the following merge procedure : \n",
    "\n",
    "# 1) Use two index variables i and j, initial values i = 0, j = 0 \n",
    "# 2) If arr1[i] is smaller than arr2[j] then print arr1[i] and increment i. \n",
    "# 3) If arr1[i] is greater than arr2[j] then print arr2[j] and increment j. \n",
    "# 4) If both are same then print any of them and increment both i and j. \n",
    "# 5) Print remaining elements of the larger array.\n",
    "\n",
    "def printUnionIntersection(arr1,arr2,m,n):\n",
    "    i = 0, j = 0\n",
    "    \n",
    "    "
   ]
  },
  {
   "cell_type": "code",
   "execution_count": null,
   "id": "a28e4857",
   "metadata": {},
   "outputs": [],
   "source": []
  },
  {
   "cell_type": "code",
   "execution_count": 4,
   "id": "c43cb685",
   "metadata": {},
   "outputs": [
    {
     "name": "stdout",
     "output_type": "stream",
     "text": [
      "yes\n"
     ]
    }
   ],
   "source": [
    "## Two Sum\n",
    "\n",
    "def TwoSum(A, size , target):\n",
    "    for i in range(0,size-1):\n",
    "        for j in range(i+1,size):\n",
    "            if A[i] + A[j] == x :\n",
    "                return 1\n",
    "    return 0\n",
    "\n",
    "if __name__ == \"__main__\":\n",
    "    A = [2,6,5,8,11]\n",
    "    x = 14\n",
    "    size = len(A)\n",
    "    \n",
    "    if (TwoSum(A,size,x)):\n",
    "        print('yes')\n",
    "    else:\n",
    "        print('no')\n"
   ]
  },
  {
   "cell_type": "code",
   "execution_count": null,
   "id": "0c014d32",
   "metadata": {},
   "outputs": [],
   "source": []
  }
 ],
 "metadata": {
  "kernelspec": {
   "display_name": "Python 3 (ipykernel)",
   "language": "python",
   "name": "python3"
  },
  "language_info": {
   "codemirror_mode": {
    "name": "ipython",
    "version": 3
   },
   "file_extension": ".py",
   "mimetype": "text/x-python",
   "name": "python",
   "nbconvert_exporter": "python",
   "pygments_lexer": "ipython3",
   "version": "3.10.9"
  }
 },
 "nbformat": 4,
 "nbformat_minor": 5
}
